{
 "cells": [
  {
   "cell_type": "code",
   "execution_count": 8,
   "metadata": {},
   "outputs": [],
   "source": [
    "import torch\n",
    "import torch.nn as nn\n",
    "import torch.nn.functional as F\n",
    "\n",
    "class Net(nn.Module):\n",
    "    def __init__(self):\n",
    "        super(Net, self).__init__()\n",
    "        self.conv1 = nn.Conv2d(1, 6, 5)\n",
    "        self.conv2 = nn.Conv2d(6, 16, 5)\n",
    "        self.linear1 = nn.Linear(400, 120)\n",
    "        self.linear2 = nn.Linear(120, 84)\n",
    "        # think this would normally be handcrafted\n",
    "        self.rbf = nn.Parameter(torch.rand(10, 84))\n",
    "\n",
    "\n",
    "    def forward(self, x):\n",
    "        # add dimension for single color channel - needed for Conv2d\n",
    "        x = torch.unsqueeze(x, 0)\n",
    "        x = F.max_pool2d(self.conv1(x), 2)\n",
    "        x = F.max_pool2d(self.conv2(x), 2)\n",
    "        # fully connected layers\n",
    "        x = self.linear2(F.relu(self.linear1(torch.flatten(x))))\n",
    "        # gaussian connections\n",
    "        return ((self.rbf - x) ** 2).sum(dim = 1)"
   ]
  },
  {
   "cell_type": "code",
   "execution_count": 9,
   "metadata": {},
   "outputs": [
    {
     "data": {
      "text/plain": [
       "torch.Size([10])"
      ]
     },
     "execution_count": 9,
     "metadata": {},
     "output_type": "execute_result"
    }
   ],
   "source": [
    "n = Net()\n",
    "a = torch.rand(32, 32)\n",
    "n(a).shape"
   ]
  },
  {
   "cell_type": "code",
   "execution_count": 12,
   "metadata": {},
   "outputs": [],
   "source": [
    "import torch\n",
    "import torch.nn as nn\n",
    "import torch.nn.functional as F\n",
    "\n",
    "class Net(nn.Module):\n",
    "    def __init__(self):\n",
    "        super(Net, self).__init__()\n",
    "        self.model = nn.Sequential(\n",
    "            nn.Conv2d(1, 6, 5),\n",
    "            nn.MaxPool2d(2),\n",
    "            nn.Conv2d(6, 16, 5),\n",
    "            nn.MaxPool2d(2),\n",
    "            nn.Flatten(0, 2),\n",
    "            nn.Linear(400, 120),\n",
    "            nn.ReLU(),\n",
    "            nn.Linear(120, 84),\n",
    "        )\n",
    "        # think this would normally be handcrafted\n",
    "        self.rbf = nn.Parameter(torch.rand(10, 84))\n",
    "\n",
    "\n",
    "    def forward(self, x):\n",
    "        # add dimension for single color channel - needed for Conv2d\n",
    "        x = self.model(torch.unsqueeze(x, 0))\n",
    "        # gaussian connections\n",
    "        return ((self.rbf - x) ** 2).sum(dim = 1)"
   ]
  },
  {
   "cell_type": "code",
   "execution_count": 13,
   "metadata": {},
   "outputs": [
    {
     "data": {
      "text/plain": [
       "torch.Size([10])"
      ]
     },
     "execution_count": 13,
     "metadata": {},
     "output_type": "execute_result"
    }
   ],
   "source": [
    "n = Net()\n",
    "a = torch.rand(32, 32)\n",
    "n(a).shape"
   ]
  }
 ],
 "metadata": {
  "kernelspec": {
   "display_name": "Python 3.8.3 ('base')",
   "language": "python",
   "name": "python3"
  },
  "language_info": {
   "codemirror_mode": {
    "name": "ipython",
    "version": 3
   },
   "file_extension": ".py",
   "mimetype": "text/x-python",
   "name": "python",
   "nbconvert_exporter": "python",
   "pygments_lexer": "ipython3",
   "version": "3.8.3"
  },
  "orig_nbformat": 4,
  "vscode": {
   "interpreter": {
    "hash": "8bab3bcc10fb4daf3e3f0428a2b3c296eef59ed9157f42dd3480f6eeaabd32d0"
   }
  }
 },
 "nbformat": 4,
 "nbformat_minor": 2
}
